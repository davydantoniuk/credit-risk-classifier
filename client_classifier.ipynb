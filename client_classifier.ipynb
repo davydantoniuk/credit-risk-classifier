{
 "cells": [
  {
   "cell_type": "markdown",
   "metadata": {},
   "source": [
    "# CREDIT RISK CLSSIFIER"
   ]
  },
  {
   "cell_type": "markdown",
   "metadata": {},
   "source": [
    "This project focuses on classifying bank clients into 'risk' or 'no risk' categories to determine their creditworthiness. Using machine learning, the model analyzes client data to predict the likelihood of default, helping banks make informed lending decisions."
   ]
  },
  {
   "cell_type": "code",
   "execution_count": 17,
   "metadata": {},
   "outputs": [],
   "source": [
    "import pandas as pd\n",
    "import matplotlib.pyplot as plt\n",
    "import numpy as np\n",
    "import seaborn as sns\n",
    "from scipy.stats import shapiro, normaltest "
   ]
  },
  {
   "cell_type": "markdown",
   "metadata": {},
   "source": [
    "## Data Description"
   ]
  },
  {
   "cell_type": "code",
   "execution_count": 5,
   "metadata": {},
   "outputs": [
    {
     "data": {
      "text/html": [
       "<div>\n",
       "<style scoped>\n",
       "    .dataframe tbody tr th:only-of-type {\n",
       "        vertical-align: middle;\n",
       "    }\n",
       "\n",
       "    .dataframe tbody tr th {\n",
       "        vertical-align: top;\n",
       "    }\n",
       "\n",
       "    .dataframe thead th {\n",
       "        text-align: right;\n",
       "    }\n",
       "</style>\n",
       "<table border=\"1\" class=\"dataframe\">\n",
       "  <thead>\n",
       "    <tr style=\"text-align: right;\">\n",
       "      <th></th>\n",
       "      <th>age</th>\n",
       "      <th>income</th>\n",
       "      <th>children</th>\n",
       "      <th>credit_history</th>\n",
       "      <th>overdue_payments</th>\n",
       "      <th>active_loans</th>\n",
       "      <th>years_in_job</th>\n",
       "      <th>employment_type</th>\n",
       "      <th>owns_property</th>\n",
       "      <th>assets_value</th>\n",
       "      <th>other_loans</th>\n",
       "      <th>education</th>\n",
       "      <th>city</th>\n",
       "      <th>marital_status</th>\n",
       "      <th>support_indicator</th>\n",
       "      <th>credit_risk</th>\n",
       "    </tr>\n",
       "  </thead>\n",
       "  <tbody>\n",
       "    <tr>\n",
       "      <th>0</th>\n",
       "      <td>44</td>\n",
       "      <td>15689 złoty</td>\n",
       "      <td>brak</td>\n",
       "      <td>dobra historia</td>\n",
       "      <td>brak opóźnień</td>\n",
       "      <td>2</td>\n",
       "      <td>9</td>\n",
       "      <td>samozatrudnienie</td>\n",
       "      <td>NaN</td>\n",
       "      <td>NaN</td>\n",
       "      <td>1</td>\n",
       "      <td>wyższe</td>\n",
       "      <td>małe</td>\n",
       "      <td>żonaty/zamężna</td>\n",
       "      <td>0.178131</td>\n",
       "      <td>0</td>\n",
       "    </tr>\n",
       "    <tr>\n",
       "      <th>1</th>\n",
       "      <td>38</td>\n",
       "      <td>18906 złoty</td>\n",
       "      <td>4 dzieci</td>\n",
       "      <td>brak historii</td>\n",
       "      <td>brak opóźnień</td>\n",
       "      <td>0</td>\n",
       "      <td>1</td>\n",
       "      <td>stała</td>\n",
       "      <td>tak</td>\n",
       "      <td>62965 złoty</td>\n",
       "      <td>0</td>\n",
       "      <td>średnie</td>\n",
       "      <td>średnie</td>\n",
       "      <td>kawaler/panna</td>\n",
       "      <td>0.370480</td>\n",
       "      <td>0</td>\n",
       "    </tr>\n",
       "    <tr>\n",
       "      <th>2</th>\n",
       "      <td>46</td>\n",
       "      <td>16338 złoty</td>\n",
       "      <td>2 dzieci</td>\n",
       "      <td>NaN</td>\n",
       "      <td>NaN</td>\n",
       "      <td>2</td>\n",
       "      <td>4</td>\n",
       "      <td>brak</td>\n",
       "      <td>tak</td>\n",
       "      <td>124967 złoty</td>\n",
       "      <td>0</td>\n",
       "      <td>podstawowe</td>\n",
       "      <td>duże</td>\n",
       "      <td>żonaty/zamężna</td>\n",
       "      <td>0.712334</td>\n",
       "      <td>0</td>\n",
       "    </tr>\n",
       "    <tr>\n",
       "      <th>3</th>\n",
       "      <td>55</td>\n",
       "      <td>23276 złoty</td>\n",
       "      <td>3 dzieci</td>\n",
       "      <td>dobra historia</td>\n",
       "      <td>opóźnienia</td>\n",
       "      <td>2</td>\n",
       "      <td>10</td>\n",
       "      <td>stała</td>\n",
       "      <td>tak</td>\n",
       "      <td>52147 złoty</td>\n",
       "      <td>1</td>\n",
       "      <td>średnie</td>\n",
       "      <td>małe</td>\n",
       "      <td>kawaler/panna</td>\n",
       "      <td>0.665050</td>\n",
       "      <td>0</td>\n",
       "    </tr>\n",
       "    <tr>\n",
       "      <th>4</th>\n",
       "      <td>37</td>\n",
       "      <td>40000 złoty</td>\n",
       "      <td>1 dzieci</td>\n",
       "      <td>brak historii</td>\n",
       "      <td>NaN</td>\n",
       "      <td>1</td>\n",
       "      <td>9</td>\n",
       "      <td>określona</td>\n",
       "      <td>nie</td>\n",
       "      <td>33957 złoty</td>\n",
       "      <td>1</td>\n",
       "      <td>wyższe</td>\n",
       "      <td>małe</td>\n",
       "      <td>kawaler/panna</td>\n",
       "      <td>0.607151</td>\n",
       "      <td>0</td>\n",
       "    </tr>\n",
       "  </tbody>\n",
       "</table>\n",
       "</div>"
      ],
      "text/plain": [
       "   age       income  children  credit_history overdue_payments  active_loans  \\\n",
       "0   44  15689 złoty      brak  dobra historia    brak opóźnień             2   \n",
       "1   38  18906 złoty  4 dzieci   brak historii    brak opóźnień             0   \n",
       "2   46  16338 złoty  2 dzieci             NaN              NaN             2   \n",
       "3   55  23276 złoty  3 dzieci  dobra historia       opóźnienia             2   \n",
       "4   37  40000 złoty  1 dzieci   brak historii              NaN             1   \n",
       "\n",
       "   years_in_job   employment_type owns_property  assets_value  other_loans  \\\n",
       "0             9  samozatrudnienie           NaN           NaN            1   \n",
       "1             1             stała           tak   62965 złoty            0   \n",
       "2             4              brak           tak  124967 złoty            0   \n",
       "3            10             stała           tak   52147 złoty            1   \n",
       "4             9         określona           nie   33957 złoty            1   \n",
       "\n",
       "    education     city  marital_status  support_indicator   credit_risk  \n",
       "0      wyższe     małe  żonaty/zamężna            0.178131            0  \n",
       "1     średnie  średnie   kawaler/panna            0.370480            0  \n",
       "2  podstawowe     duże  żonaty/zamężna            0.712334            0  \n",
       "3     średnie     małe   kawaler/panna            0.665050            0  \n",
       "4      wyższe     małe   kawaler/panna            0.607151            0  "
      ]
     },
     "execution_count": 5,
     "metadata": {},
     "output_type": "execute_result"
    }
   ],
   "source": [
    "data = pd.read_csv(\"bank_data.csv\", index_col = 0)\n",
    "data.head()"
   ]
  },
  {
   "cell_type": "markdown",
   "metadata": {},
   "source": [
    "- age - Age of the client (years) \n",
    "- income - Annual income of the client (with \"złoty\" added as currency) \n",
    "- children - Number of children the client has; 0 is encoded as \"none\" \n",
    "- credit_history - Credit history status: \"no history,\" \"good history,\" \"bad history\" \n",
    "- overdue_payments -  Status of overdue payments: \"no overdue\" or \"overdue\" \n",
    "- active_loans - Number of active loans held by the client \n",
    "- years_in_job - Number of years in current employment \n",
    "- employment_type - Employment status (e.g., \"self-employed,\" \"permanent\") \n",
    "- owns_property - Whether the client owns property: \"yes\" or \"no\" \n",
    "- assets_value - Value of assets owned (with \"złoty\" as currency) \n",
    "- other_loans - Number of other loans held by the client \n",
    "- education - Education level (e.g., \"higher,\" \"secondary\") \n",
    "- city - Size category of the city of residence (e.g., \"small,\" \"medium,\" \"large\") \n",
    "- marital_status - Marital status of the client \n",
    "- support_indicator - An auxiliary metric introduced in data generation \n",
    "- credit_risk - Target variable: 0 (low risk) or 1 (high risk)"
   ]
  },
  {
   "cell_type": "markdown",
   "metadata": {},
   "source": [
    "## Data Preprocessing"
   ]
  },
  {
   "cell_type": "markdown",
   "metadata": {},
   "source": [
    "### Missing Values"
   ]
  },
  {
   "cell_type": "code",
   "execution_count": null,
   "metadata": {},
   "outputs": [
    {
     "data": {
      "text/plain": [
       "age                      0\n",
       "income                2000\n",
       "children                 0\n",
       "credit_history        2000\n",
       "overdue_payments      2000\n",
       "active_loans             0\n",
       "years_in_job             0\n",
       "employment_type          0\n",
       "owns_property         2000\n",
       "assets_value          2000\n",
       "other_loans              0\n",
       "education                0\n",
       "city                     0\n",
       "marital_status           0\n",
       "support_indicator        0\n",
       "credit_risk              0\n",
       "dtype: int64"
      ]
     },
     "metadata": {},
     "output_type": "display_data"
    }
   ],
   "source": [
    "data.isna().sum()"
   ]
  },
  {
   "cell_type": "markdown",
   "metadata": {},
   "source": [
    "### Unique values for categorical columns"
   ]
  },
  {
   "cell_type": "code",
   "execution_count": null,
   "metadata": {},
   "outputs": [
    {
     "data": {
      "text/html": [
       "<div>\n",
       "<style scoped>\n",
       "    .dataframe tbody tr th:only-of-type {\n",
       "        vertical-align: middle;\n",
       "    }\n",
       "\n",
       "    .dataframe tbody tr th {\n",
       "        vertical-align: top;\n",
       "    }\n",
       "\n",
       "    .dataframe thead th {\n",
       "        text-align: right;\n",
       "    }\n",
       "</style>\n",
       "<table border=\"1\" class=\"dataframe\">\n",
       "  <thead>\n",
       "    <tr style=\"text-align: right;\">\n",
       "      <th></th>\n",
       "      <th>children</th>\n",
       "      <th>credit_history</th>\n",
       "      <th>employment_type</th>\n",
       "      <th>owns_property</th>\n",
       "      <th>education</th>\n",
       "      <th>city</th>\n",
       "      <th>marital_status</th>\n",
       "    </tr>\n",
       "  </thead>\n",
       "  <tbody>\n",
       "    <tr>\n",
       "      <th>0</th>\n",
       "      <td>brak</td>\n",
       "      <td>dobra historia</td>\n",
       "      <td>samozatrudnienie</td>\n",
       "      <td>NaN</td>\n",
       "      <td>wyższe</td>\n",
       "      <td>małe</td>\n",
       "      <td>żonaty/zamężna</td>\n",
       "    </tr>\n",
       "    <tr>\n",
       "      <th>1</th>\n",
       "      <td>4 dzieci</td>\n",
       "      <td>brak historii</td>\n",
       "      <td>stała</td>\n",
       "      <td>tak</td>\n",
       "      <td>średnie</td>\n",
       "      <td>średnie</td>\n",
       "      <td>kawaler/panna</td>\n",
       "    </tr>\n",
       "    <tr>\n",
       "      <th>2</th>\n",
       "      <td>2 dzieci</td>\n",
       "      <td>NaN</td>\n",
       "      <td>brak</td>\n",
       "      <td>nie</td>\n",
       "      <td>podstawowe</td>\n",
       "      <td>duże</td>\n",
       "      <td>rozwiedziony/rozwiedziona</td>\n",
       "    </tr>\n",
       "    <tr>\n",
       "      <th>3</th>\n",
       "      <td>3 dzieci</td>\n",
       "      <td>NaN</td>\n",
       "      <td>określona</td>\n",
       "      <td>NaN</td>\n",
       "      <td>NaN</td>\n",
       "      <td>NaN</td>\n",
       "      <td>NaN</td>\n",
       "    </tr>\n",
       "    <tr>\n",
       "      <th>4</th>\n",
       "      <td>1 dzieci</td>\n",
       "      <td>NaN</td>\n",
       "      <td>NaN</td>\n",
       "      <td>NaN</td>\n",
       "      <td>NaN</td>\n",
       "      <td>NaN</td>\n",
       "      <td>NaN</td>\n",
       "    </tr>\n",
       "    <tr>\n",
       "      <th>5</th>\n",
       "      <td>5 dzieci</td>\n",
       "      <td>NaN</td>\n",
       "      <td>NaN</td>\n",
       "      <td>NaN</td>\n",
       "      <td>NaN</td>\n",
       "      <td>NaN</td>\n",
       "      <td>NaN</td>\n",
       "    </tr>\n",
       "  </tbody>\n",
       "</table>\n",
       "</div>"
      ],
      "text/plain": [
       "   children  credit_history   employment_type owns_property   education  \\\n",
       "0      brak  dobra historia  samozatrudnienie           NaN      wyższe   \n",
       "1  4 dzieci   brak historii             stała           tak     średnie   \n",
       "2  2 dzieci             NaN              brak           nie  podstawowe   \n",
       "3  3 dzieci             NaN         określona           NaN         NaN   \n",
       "4  1 dzieci             NaN               NaN           NaN         NaN   \n",
       "5  5 dzieci             NaN               NaN           NaN         NaN   \n",
       "\n",
       "      city             marital_status  \n",
       "0     małe             żonaty/zamężna  \n",
       "1  średnie              kawaler/panna  \n",
       "2     duże  rozwiedziony/rozwiedziona  \n",
       "3      NaN                        NaN  \n",
       "4      NaN                        NaN  \n",
       "5      NaN                        NaN  "
      ]
     },
     "metadata": {},
     "output_type": "display_data"
    }
   ],
   "source": [
    "unique_values = {col: data[col].unique() for col in [\"children\", \"credit_history\", \"employment_type\", \"owns_property\", \"education\", \"city\", \"marital_status\"]}\n",
    "pd.DataFrame(dict([(k, pd.Series(v)) for k, v in unique_values.items()]))"
   ]
  },
  {
   "cell_type": "markdown",
   "metadata": {},
   "source": [
    "### Columns Label Encoding"
   ]
  },
  {
   "cell_type": "code",
   "execution_count": 12,
   "metadata": {},
   "outputs": [],
   "source": [
    "data[\"income\"] = data[\"income\"].str.replace(\"złoty\", \"\").astype(float)\n",
    "\n",
    "data[\"children\"] = data[\"children\"].str.replace(\"dzieci\", \"\")\n",
    "data[\"children\"] = data[\"children\"].str.replace(\"brak\", \"0\").astype(int)\n",
    "\n",
    "data[\"credit_history\"] = data[\"credit_history\"].str.replace(\"dobra historia\", \"1\").str.replace(\"brak historii\", \"0\")\n",
    "data[\"credit_history\"] = data[\"credit_history\"].astype(\"Int64\")\n",
    "\n",
    "data[\"overdue_payments\"] = data[\"overdue_payments\"].str.replace(\"brak opóźnień\", \"0\").str.replace(\"opóźnienia\", \"1\").str.replace(\"2\", \"1\").str.replace(\"3\", \"1\").str.replace(\"4\", \"1\")\n",
    "data[\"overdue_payments\"] = data[\"overdue_payments\"].astype(\"Int64\")\n",
    "\n",
    "data[\"employment_type\"] = data[\"employment_type\"].str.replace(\"brak\", \"0\").str.replace(\"określona\", \"1\").str.replace(\"samozatrudnienie\", \"2\").str.replace(\"stała\", \"3\")\n",
    "data[\"employment_type\"] = data[\"employment_type\"].astype(\"Int64\")\n",
    "\n",
    "data[\"owns_property\"] = data[\"owns_property\"].str.replace(\"nie\", \"0\").str.replace(\"tak\", \"1\")\n",
    "data[\"owns_property\"] = data[\"owns_property\"].astype(\"Int64\")\n",
    "\n",
    "data[\"assets_value\"] = data[\"assets_value\"].str.replace(\"złoty\", \"\").astype(float)\n",
    "\n",
    "data[\"education\"] = data[\"education\"].str.replace(\"podstawowe\", \"0\").str.replace(\"średnie\", \"1\").str.replace(\"wyższe\", \"2\").astype(int)\n",
    "\n",
    "data[\"city\"] = data[\"city\"].str.replace(\"małe\", \"0\").str.replace(\"średnie\", \"1\").str.replace(\"duże\", \"2\").astype(int)\n",
    "\n",
    "data[\"marital_status\"] = data[\"marital_status\"].str.replace(\"kawaler/panna\", \"0\").str.replace(\"żonaty/zamężna\", \"1\").str.replace(\"rozwiedziony/rozwiedziona\", \"2\").astype(int)\n"
   ]
  },
  {
   "cell_type": "markdown",
   "metadata": {},
   "source": [
    "### Basic Statistics"
   ]
  },
  {
   "cell_type": "code",
   "execution_count": 13,
   "metadata": {},
   "outputs": [
    {
     "data": {
      "text/html": [
       "<div>\n",
       "<style scoped>\n",
       "    .dataframe tbody tr th:only-of-type {\n",
       "        vertical-align: middle;\n",
       "    }\n",
       "\n",
       "    .dataframe tbody tr th {\n",
       "        vertical-align: top;\n",
       "    }\n",
       "\n",
       "    .dataframe thead th {\n",
       "        text-align: right;\n",
       "    }\n",
       "</style>\n",
       "<table border=\"1\" class=\"dataframe\">\n",
       "  <thead>\n",
       "    <tr style=\"text-align: right;\">\n",
       "      <th></th>\n",
       "      <th>age</th>\n",
       "      <th>income</th>\n",
       "      <th>children</th>\n",
       "      <th>active_loans</th>\n",
       "      <th>years_in_job</th>\n",
       "      <th>assets_value</th>\n",
       "    </tr>\n",
       "  </thead>\n",
       "  <tbody>\n",
       "    <tr>\n",
       "      <th>count</th>\n",
       "      <td>10000.000000</td>\n",
       "      <td>8000.000000</td>\n",
       "      <td>10000.000000</td>\n",
       "      <td>10000.000000</td>\n",
       "      <td>10000.000000</td>\n",
       "      <td>8000.000000</td>\n",
       "    </tr>\n",
       "    <tr>\n",
       "      <th>mean</th>\n",
       "      <td>39.527000</td>\n",
       "      <td>23598.621250</td>\n",
       "      <td>0.983600</td>\n",
       "      <td>1.497900</td>\n",
       "      <td>9.524300</td>\n",
       "      <td>80349.420250</td>\n",
       "    </tr>\n",
       "    <tr>\n",
       "      <th>std</th>\n",
       "      <td>9.874899</td>\n",
       "      <td>9717.329753</td>\n",
       "      <td>1.235105</td>\n",
       "      <td>1.223824</td>\n",
       "      <td>4.869803</td>\n",
       "      <td>70517.033919</td>\n",
       "    </tr>\n",
       "    <tr>\n",
       "      <th>min</th>\n",
       "      <td>18.000000</td>\n",
       "      <td>3202.000000</td>\n",
       "      <td>0.000000</td>\n",
       "      <td>0.000000</td>\n",
       "      <td>0.000000</td>\n",
       "      <td>10000.000000</td>\n",
       "    </tr>\n",
       "    <tr>\n",
       "      <th>25%</th>\n",
       "      <td>33.000000</td>\n",
       "      <td>15778.000000</td>\n",
       "      <td>0.000000</td>\n",
       "      <td>1.000000</td>\n",
       "      <td>6.000000</td>\n",
       "      <td>34335.250000</td>\n",
       "    </tr>\n",
       "    <tr>\n",
       "      <th>50%</th>\n",
       "      <td>39.000000</td>\n",
       "      <td>22083.000000</td>\n",
       "      <td>0.000000</td>\n",
       "      <td>1.000000</td>\n",
       "      <td>9.000000</td>\n",
       "      <td>59565.000000</td>\n",
       "    </tr>\n",
       "    <tr>\n",
       "      <th>75%</th>\n",
       "      <td>46.000000</td>\n",
       "      <td>31066.500000</td>\n",
       "      <td>2.000000</td>\n",
       "      <td>2.000000</td>\n",
       "      <td>13.000000</td>\n",
       "      <td>102015.000000</td>\n",
       "    </tr>\n",
       "    <tr>\n",
       "      <th>max</th>\n",
       "      <td>70.000000</td>\n",
       "      <td>40000.000000</td>\n",
       "      <td>5.000000</td>\n",
       "      <td>8.000000</td>\n",
       "      <td>30.000000</td>\n",
       "      <td>500000.000000</td>\n",
       "    </tr>\n",
       "  </tbody>\n",
       "</table>\n",
       "</div>"
      ],
      "text/plain": [
       "                age        income      children  active_loans  years_in_job  \\\n",
       "count  10000.000000   8000.000000  10000.000000  10000.000000  10000.000000   \n",
       "mean      39.527000  23598.621250      0.983600      1.497900      9.524300   \n",
       "std        9.874899   9717.329753      1.235105      1.223824      4.869803   \n",
       "min       18.000000   3202.000000      0.000000      0.000000      0.000000   \n",
       "25%       33.000000  15778.000000      0.000000      1.000000      6.000000   \n",
       "50%       39.000000  22083.000000      0.000000      1.000000      9.000000   \n",
       "75%       46.000000  31066.500000      2.000000      2.000000     13.000000   \n",
       "max       70.000000  40000.000000      5.000000      8.000000     30.000000   \n",
       "\n",
       "        assets_value  \n",
       "count    8000.000000  \n",
       "mean    80349.420250  \n",
       "std     70517.033919  \n",
       "min     10000.000000  \n",
       "25%     34335.250000  \n",
       "50%     59565.000000  \n",
       "75%    102015.000000  \n",
       "max    500000.000000  "
      ]
     },
     "execution_count": 13,
     "metadata": {},
     "output_type": "execute_result"
    }
   ],
   "source": [
    "data[['age','income','children','active_loans','years_in_job','assets_value']].describe()"
   ]
  },
  {
   "cell_type": "code",
   "execution_count": 14,
   "metadata": {},
   "outputs": [
    {
     "data": {
      "image/png": "[encoded data removed]",
      "text/plain": [
       "<Figure size 1000x800 with 6 Axes>"
      ]
     },
     "metadata": {},
     "output_type": "display_data"
    }
   ],
   "source": [
    "data[['age','income','children','active_loans','years_in_job','assets_value']].hist(bins=20, figsize=(10, 8))\n",
    "plt.show()"
   ]
  },
  {
   "cell_type": "markdown",
   "metadata": {},
   "source": [
    "`age` supposed to has a normal distribution"
   ]
  },
  {
   "cell_type": "code",
   "execution_count": 18,
   "metadata": {},
   "outputs": [
    {
     "name": "stdout",
     "output_type": "stream",
     "text": [
      "Shapiro-Wilk Test: p=  0.000000\n",
      "D'Agostino's K-squared Test: p=0.0000000013\n"
     ]
    }
   ],
   "source": [
    "# Shapiro-Wilk test\n",
    "sample = np.random.choice(data[\"age\"], size=5000, replace=False)\n",
    "stat, p = shapiro(sample)\n",
    "\n",
    "# D'Agostino's K-squared test\n",
    "stat1, p1 = normaltest(data[\"age\"])\n",
    "\n",
    "print(\"Shapiro-Wilk Test: p=%10f\" %(p))\n",
    "print(\"D'Agostino's K-squared Test: p=%.10f\" %(p1))"
   ]
  },
  {
   "cell_type": "markdown",
   "metadata": {},
   "source": [
    "In both tests p value is less than 0.05, so we can reject the null hypothesis and say that the age is not normally distributed."
   ]
  }
 ],
 "metadata": {
  "kernelspec": {
   "display_name": "PYTHON3.10",
   "language": "python",
   "name": "python3"
  },
  "language_info": {
   "codemirror_mode": {
    "name": "ipython",
    "version": 3
   },
   "file_extension": ".py",
   "mimetype": "text/x-python",
   "name": "python",
   "nbconvert_exporter": "python",
   "pygments_lexer": "ipython3",
   "version": "3.10.16"
  }
 },
 "nbformat": 4,
 "nbformat_minor": 2
}
