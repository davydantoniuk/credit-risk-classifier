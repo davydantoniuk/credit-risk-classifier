{
 "cells": [
  {
   "cell_type": "markdown",
   "metadata": {},
   "source": [
    "# CREDIT RISK CLSSIFIER"
   ]
  },
  {
   "cell_type": "markdown",
   "metadata": {},
   "source": [
    "This project focuses on classifying bank clients into 'risk' or 'no risk' categories to determine their creditworthiness. Using machine learning, the model analyzes client data to predict the likelihood of default, helping banks make informed lending decisions."
   ]
  },
  {
   "cell_type": "markdown",
   "metadata": {},
   "source": [
    "## Data Description"
   ]
  },
  {
   "cell_type": "markdown",
   "metadata": {},
   "source": [
    "- age - Age of the client (years) \n",
    "- income - Annual income of the client (with \"złoty\" added as currency) \n",
    "- children - Number of children the client has; 0 is encoded as \"none\" \n",
    "- credit_history - Credit history status: \"no history,\" \"good history,\" \"bad history\" \n",
    "- overdue_payments -  Status of overdue payments: \"no overdue\" or \"overdue\" \n",
    "- active_loans - Number of active loans held by the client \n",
    "- years_in_job - Number of years in current employment \n",
    "- employment_type - Employment status (e.g., \"self-employed,\" \"permanent\") \n",
    "- owns_property - Whether the client owns property: \"yes\" or \"no\" \n",
    "- assets_value - Value of assets owned (with \"złoty\" as currency) \n",
    "- other_loans - Number of other loans held by the client \n",
    "- education - Education level (e.g., \"higher,\" \"secondary\") \n",
    "- city - Size category of the city of residence (e.g., \"small,\" \"medium,\" \"large\") \n",
    "- marital_status - Marital status of the client \n",
    "- support_indicator - An auxiliary metric introduced in data generation \n",
    "- credit_risk - Target variable: 0 (low risk) or 1 (high risk)"
   ]
  }
 ],
 "metadata": {
  "language_info": {
   "name": "python"
  }
 },
 "nbformat": 4,
 "nbformat_minor": 2
}
